{
  "nbformat": 4,
  "nbformat_minor": 0,
  "metadata": {
    "colab": {
      "provenance": []
    },
    "kernelspec": {
      "name": "python3",
      "display_name": "Python 3"
    },
    "language_info": {
      "name": "python"
    }
  },
  "cells": [
    {
      "cell_type": "code",
      "execution_count": null,
      "metadata": {
        "id": "olCRWM_RWiSo"
      },
      "outputs": [],
      "source": []
    },
    {
      "cell_type": "code",
      "source": [],
      "metadata": {
        "id": "rTmBYdgiYuNG"
      },
      "execution_count": null,
      "outputs": []
    },
    {
      "cell_type": "markdown",
      "source": [
        "https://github.com/Lexa-B/LexaLCM_Pre2"
      ],
      "metadata": {
        "id": "N8kh6H5gYwIz"
      }
    },
    {
      "cell_type": "markdown",
      "source": [
        "https://huggingface.co/Lexa-B/LexaLCM_Pre2"
      ],
      "metadata": {
        "id": "ImjngtRVcYwr"
      }
    },
    {
      "cell_type": "code",
      "source": [
        "uv venv # create a new virtual environment\n",
        "source .venv/bin/activate # activate the virtual environment\n",
        "uv pip install -e \".[gpu]\" # install the dependencies (gpu)... if you want to install the dependencies (cpu), use \".[cpu]\" instead"
      ],
      "metadata": {
        "id": "rlzxS4mZYuQz"
      },
      "execution_count": null,
      "outputs": []
    },
    {
      "cell_type": "code",
      "source": [
        "!git clone https://github.com/Lexa-B/LexaLCM_Pre2.git"
      ],
      "metadata": {
        "colab": {
          "base_uri": "https://localhost:8080/"
        },
        "id": "3qF-Y86eZgaq",
        "outputId": "ba2e2bb1-e287-4f3b-913f-17b5ad8b1a55"
      },
      "execution_count": 1,
      "outputs": [
        {
          "output_type": "stream",
          "name": "stdout",
          "text": [
            "Cloning into 'LexaLCM_Pre2'...\n",
            "remote: Enumerating objects: 98, done.\u001b[K\n",
            "remote: Counting objects: 100% (98/98), done.\u001b[K\n",
            "remote: Compressing objects: 100% (75/75), done.\u001b[K\n",
            "remote: Total 98 (delta 30), reused 80 (delta 17), pack-reused 0 (from 0)\u001b[K\n",
            "Receiving objects: 100% (98/98), 193.40 KiB | 1.05 MiB/s, done.\n",
            "Resolving deltas: 100% (30/30), done.\n"
          ]
        }
      ]
    },
    {
      "cell_type": "code",
      "source": [
        "%cd LexaLCM_Pre2"
      ],
      "metadata": {
        "colab": {
          "base_uri": "https://localhost:8080/"
        },
        "id": "1FsipSCUZiCe",
        "outputId": "39b46394-e1a4-403f-f7ee-609b52fc7787"
      },
      "execution_count": 1,
      "outputs": [
        {
          "output_type": "stream",
          "name": "stdout",
          "text": [
            "/content/LexaLCM_Pre2\n"
          ]
        }
      ]
    },
    {
      "cell_type": "code",
      "source": [
        "!uv venv"
      ],
      "metadata": {
        "colab": {
          "base_uri": "https://localhost:8080/"
        },
        "id": "aoub1C0cZk8j",
        "outputId": "270adcf5-7273-49a9-b426-9938d52f30b1"
      },
      "execution_count": 3,
      "outputs": [
        {
          "output_type": "stream",
          "name": "stdout",
          "text": [
            "\u001b[1m\u001b[33mwarning\u001b[39m\u001b[0m\u001b[1m:\u001b[0m \u001b[1mThe `--system` flag has no effect, a system Python interpreter is always used in `uv venv`\u001b[0m\n",
            "Using CPython 3.12.11 interpreter at: \u001b[36m/usr/bin/python3\u001b[39m\n",
            "Creating virtual environment at: \u001b[36m.venv\u001b[39m\n",
            "Activate with: \u001b[32msource .venv/bin/activate\u001b[39m\n"
          ]
        }
      ]
    },
    {
      "cell_type": "code",
      "source": [
        "!source .venv/bin/activate"
      ],
      "metadata": {
        "id": "MuBMBCJzZqO_"
      },
      "execution_count": 4,
      "outputs": []
    },
    {
      "cell_type": "code",
      "source": [
        "https://download.pytorch.org/whl/torchrec_cpu-0.1.1-3.9-none-any.whl#sha256=f021707406aa9ce81ca303a5df0035c88530ec7d674d36e6bc6e92c48ae2e032"
      ],
      "metadata": {
        "id": "5GDeHrzHmOx2"
      },
      "execution_count": null,
      "outputs": []
    },
    {
      "cell_type": "code",
      "source": [
        "!uv pip install -e \".[cpu]\""
      ],
      "metadata": {
        "colab": {
          "base_uri": "https://localhost:8080/"
        },
        "id": "qgNmyszkZsKT",
        "outputId": "72f8136c-f61d-4552-af76-084f75594fd3"
      },
      "execution_count": 6,
      "outputs": [
        {
          "output_type": "stream",
          "name": "stdout",
          "text": [
            "\u001b[2mUsing Python 3.12.11 environment at: /usr\u001b[0m\n",
            "\u001b[37m⠋\u001b[0m \u001b[2mResolving dependencies...                                                     \u001b[0m\r\u001b[2K\u001b[37m⠙\u001b[0m \u001b[2mResolving dependencies...                                                     \u001b[0m\r\u001b[2K\u001b[37m⠋\u001b[0m \u001b[2mResolving dependencies...                                                     \u001b[0m\r\u001b[2K\u001b[37m⠙\u001b[0m \u001b[2mResolving dependencies...                                                     \u001b[0m\r\u001b[2K\u001b[37m⠋\u001b[0m \u001b[2mResolving dependencies...                                                     \u001b[0m\r\u001b[2K\u001b[37m⠙\u001b[0m \u001b[2mResolving dependencies...                                                     \u001b[0m\r\u001b[2K\u001b[37m⠙\u001b[0m \u001b[2mlexalcm==0.0.0rc2                                                             \u001b[0m\r\u001b[2K\u001b[37m⠙\u001b[0m \u001b[2mlexalcm==0.0.0rc2                                                             \u001b[0m\r\u001b[2K\u001b[37m⠙\u001b[0m \u001b[2m                                                                              \u001b[0m\r\u001b[2K  \u001b[31m×\u001b[0m No solution found when resolving dependencies:\n",
            "\u001b[31m  ╰─▶ \u001b[0mBecause there is no version of torch==2.8.0+cpu and\n",
            "\u001b[31m      \u001b[0mlexalcm[cpu]==0.0.0rc2 depends on torch==2.8.0+cpu, we can conclude that\n",
            "\u001b[31m      \u001b[0mlexalcm[cpu]==0.0.0rc2 cannot be used.\n",
            "\u001b[31m      \u001b[0mAnd because only lexalcm[cpu]==0.0.0rc2 is available and you require\n",
            "\u001b[31m      \u001b[0mlexalcm[cpu], we can conclude that your requirements are unsatisfiable.\n"
          ]
        }
      ]
    },
    {
      "cell_type": "code",
      "source": [
        "!clear & uv run Tests/TestInference.py"
      ],
      "metadata": {
        "colab": {
          "base_uri": "https://localhost:8080/"
        },
        "id": "xUPT7v4UaAJ7",
        "outputId": "4141bd49-b331-43c0-82c0-ef6e03e537e8"
      },
      "execution_count": 4,
      "outputs": [
        {
          "output_type": "stream",
          "name": "stdout",
          "text": [
            "\u001b[2K  \u001b[31m×\u001b[0m No solution found when resolving dependencies for split\n",
            "  \u001b[31m│\u001b[0m (python_full_version >= '3.12' and sys_platform == 'linux'):\n",
            "\u001b[31m  ╰─▶ \u001b[0mBecause there is no version of torch==2.6.0+cpu and lexalcm[cpu] depends\n",
            "\u001b[31m      \u001b[0mon torch==2.6.0+cpu, we can conclude that lexalcm[cpu]'s requirements\n",
            "\u001b[31m      \u001b[0mare unsatisfiable.\n",
            "\u001b[31m      \u001b[0mAnd because your workspace requires lexalcm[cpu], we can conclude that\n",
            "\u001b[31m      \u001b[0myour workspace's requirements are unsatisfiable.\n"
          ]
        }
      ]
    },
    {
      "cell_type": "code",
      "source": [
        "!python"
      ],
      "metadata": {
        "colab": {
          "base_uri": "https://localhost:8080/"
        },
        "id": "RiuUAV7KaBDj",
        "outputId": "ef014378-4e7d-4837-9fe1-1aaae234a861"
      },
      "execution_count": 3,
      "outputs": [
        {
          "output_type": "stream",
          "name": "stdout",
          "text": [
            "Python 3.12.11 (main, Jun  4 2025, 08:56:18) [GCC 11.4.0] on linux\n",
            "Type \"help\", \"copyright\", \"credits\" or \"license\" for more information.\n",
            ">>> \n",
            "KeyboardInterrupt\n",
            ">>> ^C\n"
          ]
        }
      ]
    },
    {
      "cell_type": "code",
      "metadata": {
        "id": "6fd1df6f"
      },
      "source": [
        "!git submodule update --init --recursive"
      ],
      "execution_count": 10,
      "outputs": []
    },
    {
      "cell_type": "code",
      "source": [
        "!uv run /content/LexaLCM_Pre2/src/LexaLCM/Main.py"
      ],
      "metadata": {
        "colab": {
          "base_uri": "https://localhost:8080/"
        },
        "id": "IA7Rn6G2dS0T",
        "outputId": "a1b22022-2abf-4455-cc00-54f7dc5702d5"
      },
      "execution_count": 1,
      "outputs": [
        {
          "output_type": "stream",
          "name": "stdout",
          "text": [
            "Traceback (most recent call last):\n",
            "  File \"/content/LexaLCM_Pre2/src/LexaLCM/Main.py\", line 8, in <module>\n",
            "    import evaluate\n",
            "  File \"/usr/local/lib/python3.12/dist-packages/evaluate/__init__.py\", line 29, in <module>\n",
            "    from .evaluation_suite import EvaluationSuite\n",
            "  File \"/usr/local/lib/python3.12/dist-packages/evaluate/evaluation_suite/__init__.py\", line 10, in <module>\n",
            "    from ..evaluator import evaluator\n",
            "  File \"/usr/local/lib/python3.12/dist-packages/evaluate/evaluator/__init__.py\", line 17, in <module>\n",
            "    from transformers.pipelines import SUPPORTED_TASKS as SUPPORTED_PIPELINE_TASKS\n",
            "  File \"/usr/local/lib/python3.12/dist-packages/transformers/pipelines/__init__.py\", line 26, in <module>\n",
            "    from ..image_processing_utils import BaseImageProcessor\n",
            "  File \"/usr/local/lib/python3.12/dist-packages/transformers/image_processing_utils.py\", line 22, in <module>\n",
            "    from .image_transforms import center_crop, normalize, rescale\n",
            "  File \"/usr/local/lib/python3.12/dist-packages/transformers/image_transforms.py\", line 21, in <module>\n",
            "    from .image_utils import (\n",
            "  File \"/usr/local/lib/python3.12/dist-packages/transformers/image_utils.py\", line 64, in <module>\n",
            "    from torchvision import io as torchvision_io\n",
            "  File \"/usr/local/lib/python3.12/dist-packages/torchvision/__init__.py\", line 10, in <module>\n",
            "    from torchvision import _meta_registrations, datasets, io, models, ops, transforms, utils  # usort:skip\n",
            "    ^^^^^^^^^^^^^^^^^^^^^^^^^^^^^^^^^^^^^^^^^^^^^^^^^^^^^^^^^^^^^^^^^^^^^^^^^^^^^^^^^^^^^^^^^\n",
            "  File \"/usr/local/lib/python3.12/dist-packages/torchvision/_meta_registrations.py\", line 163, in <module>\n",
            "    @torch.library.register_fake(\"torchvision::nms\")\n",
            "     ^^^^^^^^^^^^^^^^^^^^^^^^^^^^^^^^^^^^^^^^^^^^^^^\n",
            "  File \"/usr/local/lib/python3.12/dist-packages/torch/library.py\", line 1023, in register\n",
            "    use_lib._register_fake(op_name, func, _stacklevel=stacklevel + 1)\n",
            "  File \"/usr/local/lib/python3.12/dist-packages/torch/library.py\", line 214, in _register_fake\n",
            "    handle = entry.fake_impl.register(func_to_register, source)\n",
            "             ^^^^^^^^^^^^^^^^^^^^^^^^^^^^^^^^^^^^^^^^^^^^^^^^^^\n",
            "  File \"/usr/local/lib/python3.12/dist-packages/torch/_library/fake_impl.py\", line 31, in register\n",
            "    if torch._C._dispatch_has_kernel_for_dispatch_key(self.qualname, \"Meta\"):\n",
            "       ^^^^^^^^^^^^^^^^^^^^^^^^^^^^^^^^^^^^^^^^^^^^^^^^^^^^^^^^^^^^^^^^^^^^^\n",
            "RuntimeError: operator torchvision::nms does not exist\n"
          ]
        }
      ]
    },
    {
      "cell_type": "code",
      "metadata": {
        "colab": {
          "base_uri": "https://localhost:8080/"
        },
        "id": "59bf5943",
        "outputId": "73c5e1e2-671a-41c2-8b9a-d603ddeeeb6a"
      },
      "source": [
        "!cat /content/LexaLCM_Pre2/pyproject.toml > pyproject.toml.bak # Backup the original file\n",
        "!sed -i 's/    \"torch==2.7.0+cu128\",/    \"torch==2.7.0+cu128\",\\n    \"torchvision==0.23.0+cu128\",/' /content/LexaLCM_Pre2/pyproject.toml\n",
        "!cat /content/LexaLCM_Pre2/pyproject.toml"
      ],
      "execution_count": 5,
      "outputs": [
        {
          "output_type": "stream",
          "name": "stdout",
          "text": [
            "[project]\n",
            "name = \"LexaLCM\"\n",
            "readme = \"README.md\"\n",
            "requires-python = \">=3.12\"\n",
            "version = \"0.0.0_pre2\"\n",
            "description = \"LCM: Large Concept Model an architecture using a higher-level semantic representation called a concept, which is language- and modality-agnostic, representing ideas or actions.\"\n",
            "dependencies = [\n",
            "    \"accelerate>=1.7.0\",\n",
            "    \"pytest>=8.3.5\",\n",
            "    #    \"bitsandbytes>=0.45.5\",\n",
            "    \"numpy>=2.2.6\",\n",
            "    \"pandas>=2.2.3\",\n",
            "    \"sentencepiece>=0.2.0\",\n",
            "    \"wandb>=0.19.11\",\n",
            "    \"torchinfo>=1.8.0\",\n",
            "    \"pyarrow>=20.0.0\",\n",
            "    \"evaluate>=0.4.3\",\n",
            "    \"transformers>=4.51.3\",\n",
            "]\n",
            "\n",
            "classifiers = [\n",
            "  \"License :: OSI Approved :: MIT License\",\n",
            "  \"Topic :: Scientific/Engineering\",\n",
            "  \"Development Status :: 4 - Beta\",\n",
            "]\n",
            "\n",
            "[project.optional-dependencies]\n",
            "gpu = [\n",
            "    \"torch==2.7.0+cu128\",\n",
            "    \"torchvision==0.23.0+cu128\",\n",
            "    \"wtpsplit[onnx-gpu]>=2.1.5\",\n",
            "]\n",
            "# cpu = [\n",
            "#     \"torch==2.7.0+cpu\",\n",
            "#     \"wtpsplit[onnx-cpu]>=2.1.5\",\n",
            "#     \"transformers[torch]>=4.51.3\",\n",
            "# ]\n",
            "\n",
            "training = [\n",
            "    \"datasets>=3.6.0\",\n",
            "]\n",
            "\n",
            "data = [\n",
            "    \"pyarrow>=20.0.0\",\n",
            "    \"seaborn>=0.13.2\",\n",
            "    \"matplotlib>=3.10.3\",\n",
            "    \"tqdm>=4.67.1\",\n",
            "]\n",
            "\n",
            "[tool.uv.sources]\n",
            "torch = { index = \"pytorch-gpu\" }\n",
            "\n",
            "\n",
            "[[tool.uv.index]]\n",
            "name = \"pytorch-gpu\"\n",
            "url = \"https://download.pytorch.org/whl/cu128\"\n",
            "explicit = true\n",
            "\n",
            " [tool.uv.workspace]\n",
            " members = [\n",
            "     \"src/Submodules/Pipeline_SONAR\",\n",
            " ]\n"
          ]
        }
      ]
    },
    {
      "cell_type": "code",
      "source": [
        "!git merge -X ours target_branch\n"
      ],
      "metadata": {
        "colab": {
          "base_uri": "https://localhost:8080/"
        },
        "id": "L5ZqmxAOfpy0",
        "outputId": "3e4c24ba-ade7-48b3-d3a7-b3e2b238e774"
      },
      "execution_count": 10,
      "outputs": [
        {
          "output_type": "stream",
          "name": "stdout",
          "text": [
            "merge: target_branch - not something we can merge\n"
          ]
        }
      ]
    },
    {
      "cell_type": "code",
      "metadata": {
        "colab": {
          "base_uri": "https://localhost:8080/"
        },
        "id": "cc7de2fe",
        "outputId": "63b34756-dd4d-4107-e4a5-25af0cabb6b0"
      },
      "source": [
        "!uv cache clean\n",
        "!uv pip install -e \".[gpu]\""
      ],
      "execution_count": 11,
      "outputs": [
        {
          "output_type": "stream",
          "name": "stdout",
          "text": [
            "Clearing cache at: \u001b[36m/root/.cache/uv\u001b[39m\n",
            "\u001b[2KRemoved 57 files (\u001b[32m8.1MiB\u001b[39m)\n",
            "\u001b[2mUsing Python 3.12.11 environment at: /usr\u001b[0m\n",
            "\u001b[2K  \u001b[31m×\u001b[0m No solution found when resolving dependencies:\n",
            "\u001b[31m  ╰─▶ \u001b[0mBecause there is no version of torchvision==0.23.0+cu128 and\n",
            "\u001b[31m      \u001b[0mlexalcm[gpu]==0.0.0rc2 depends on torchvision==0.23.0+cu128, we can\n",
            "\u001b[31m      \u001b[0mconclude that lexalcm[gpu]==0.0.0rc2 cannot be used.\n",
            "\u001b[31m      \u001b[0mAnd because only lexalcm[gpu]==0.0.0rc2 is available and you require\n",
            "\u001b[31m      \u001b[0mlexalcm[gpu], we can conclude that your requirements are unsatisfiable.\n"
          ]
        }
      ]
    },
    {
      "cell_type": "code",
      "metadata": {
        "colab": {
          "base_uri": "https://localhost:8080/"
        },
        "id": "82a4d5b3",
        "outputId": "063e9d9b-ab96-412c-da84-8c380fab5321"
      },
      "source": [
        "!pip show torch torchvision"
      ],
      "execution_count": 4,
      "outputs": [
        {
          "output_type": "stream",
          "name": "stdout",
          "text": [
            "Name: torch\n",
            "Version: 2.7.0+cu128\n",
            "Summary: Tensors and Dynamic neural networks in Python with strong GPU acceleration\n",
            "Home-page: https://pytorch.org/\n",
            "Author: PyTorch Team\n",
            "Author-email: packages@pytorch.org\n",
            "License: BSD-3-Clause\n",
            "Location: /usr/local/lib/python3.12/dist-packages\n",
            "Requires: filelock, fsspec, jinja2, networkx, nvidia-cublas-cu12, nvidia-cuda-cupti-cu12, nvidia-cuda-nvrtc-cu12, nvidia-cuda-runtime-cu12, nvidia-cudnn-cu12, nvidia-cufft-cu12, nvidia-cufile-cu12, nvidia-curand-cu12, nvidia-cusolver-cu12, nvidia-cusparse-cu12, nvidia-cusparselt-cu12, nvidia-nccl-cu12, nvidia-nvjitlink-cu12, nvidia-nvtx-cu12, setuptools, sympy, triton, typing-extensions\n",
            "Required-by: accelerate, fastai, peft, sentence-transformers, timm, torchaudio, torchdata, torchvision\n",
            "---\n",
            "Name: torchvision\n",
            "Version: 0.23.0+cu126\n",
            "Summary: image and video datasets and models for torch deep learning\n",
            "Home-page: https://github.com/pytorch/vision\n",
            "Author: PyTorch Core Team\n",
            "Author-email: soumith@pytorch.org\n",
            "License: BSD\n",
            "Location: /usr/local/lib/python3.12/dist-packages\n",
            "Requires: numpy, pillow, torch\n",
            "Required-by: fastai, timm\n"
          ]
        }
      ]
    },
    {
      "cell_type": "code",
      "metadata": {
        "colab": {
          "base_uri": "https://localhost:8080/"
        },
        "id": "c203b36d",
        "outputId": "75ebc0a9-ca0f-4470-bdd3-58fb47c9cf50"
      },
      "source": [
        "!uv pip install -e \".[gpu]\""
      ],
      "execution_count": 6,
      "outputs": [
        {
          "output_type": "stream",
          "name": "stdout",
          "text": [
            "\u001b[2mUsing Python 3.12.11 environment at: /usr\u001b[0m\n",
            "\u001b[37m⠋\u001b[0m \u001b[2mResolving dependencies...                                                     \u001b[0m\r\u001b[2K\u001b[37m⠙\u001b[0m \u001b[2mResolving dependencies...                                                     \u001b[0m\r\u001b[2K\u001b[1m\u001b[31merror\u001b[39m\u001b[0m: /content does not appear to be a Python project, as neither `pyproject.toml` nor `setup.py` are present in the directory\n"
          ]
        }
      ]
    },
    {
      "cell_type": "code",
      "metadata": {
        "colab": {
          "base_uri": "https://localhost:8080/"
        },
        "id": "154af96a",
        "outputId": "9abe08ed-e79e-4427-b104-5744095b2530"
      },
      "source": [
        "%cd /content/LexaLCM_Pre2\n",
        "!uv pip install -e \".[gpu]\""
      ],
      "execution_count": 7,
      "outputs": [
        {
          "output_type": "stream",
          "name": "stdout",
          "text": [
            "/content/LexaLCM_Pre2\n",
            "\u001b[2mUsing Python 3.12.11 environment at: /usr\u001b[0m\n",
            "\u001b[2K  \u001b[31m×\u001b[0m No solution found when resolving dependencies:\n",
            "\u001b[31m  ╰─▶ \u001b[0mBecause there is no version of torchvision==0.23.0+cu128 and\n",
            "\u001b[31m      \u001b[0mlexalcm[gpu]==0.0.0rc2 depends on torchvision==0.23.0+cu128, we can\n",
            "\u001b[31m      \u001b[0mconclude that lexalcm[gpu]==0.0.0rc2 cannot be used.\n",
            "\u001b[31m      \u001b[0mAnd because only lexalcm[gpu]==0.0.0rc2 is available and you require\n",
            "\u001b[31m      \u001b[0mlexalcm[gpu], we can conclude that your requirements are unsatisfiable.\n"
          ]
        }
      ]
    },
    {
      "cell_type": "code",
      "metadata": {
        "colab": {
          "base_uri": "https://localhost:8080/"
        },
        "id": "a6e2f979",
        "outputId": "6dcf5bdc-8ddc-4460-f257-2b2e4bed5b11"
      },
      "source": [
        "!uv run Tests/TestInference.py"
      ],
      "execution_count": 8,
      "outputs": [
        {
          "output_type": "stream",
          "name": "stdout",
          "text": [
            "\u001b[37m⠋\u001b[0m \u001b[2mResolving dependencies...                                                     \u001b[0m\r\u001b[2K\u001b[37m⠙\u001b[0m \u001b[2mResolving dependencies...                                                     \u001b[0m\r\u001b[2K\u001b[37m⠋\u001b[0m \u001b[2mResolving dependencies...                                                     \u001b[0m\r\u001b[2K\u001b[37m⠙\u001b[0m \u001b[2mResolving dependencies...                                                     \u001b[0m\r\u001b[2K\u001b[37m⠋\u001b[0m \u001b[2mResolving dependencies...                                                     \u001b[0m\r\u001b[2K\u001b[37m⠙\u001b[0m \u001b[2mResolving dependencies...                                                     \u001b[0m\r\u001b[2K\u001b[37m⠙\u001b[0m \u001b[2mlexalcm==0.0.0rc2                                                             \u001b[0m\r\u001b[2K\u001b[37m⠙\u001b[0m \u001b[2mlexalcm==0.0.0rc2                                                             \u001b[0m\r\u001b[2K\u001b[37m⠙\u001b[0m \u001b[2mlexalcm==0.0.0rc2                                                             \u001b[0m\r\u001b[2K\u001b[37m⠙\u001b[0m \u001b[2m                                                                              \u001b[0m\r\u001b[2K\u001b[1m\u001b[31merror\u001b[39m\u001b[0m: Requirements contain conflicting indexes for package `torch` in split `python_full_version >= '3.12' and sys_platform == 'linux'`:\n",
            "- https://download.pytorch.org/whl/cu124\n",
            "- https://download.pytorch.org/whl/cu128\n"
          ]
        }
      ]
    },
    {
      "cell_type": "code",
      "metadata": {
        "colab": {
          "base_uri": "https://localhost:8080/"
        },
        "id": "835530fc",
        "outputId": "42b829d9-b8d3-4dde-88c6-83fd8729269e"
      },
      "source": [
        "%cd /content/LexaLCM_Pre2\n",
        "!uv pip install -e \".[gpu]\""
      ],
      "execution_count": 9,
      "outputs": [
        {
          "output_type": "stream",
          "name": "stdout",
          "text": [
            "/content/LexaLCM_Pre2\n",
            "\u001b[2mUsing Python 3.12.11 environment at: /usr\u001b[0m\n",
            "\u001b[2K  \u001b[31m×\u001b[0m No solution found when resolving dependencies:\n",
            "\u001b[31m  ╰─▶ \u001b[0mBecause there is no version of torchvision==0.23.0+cu128 and\n",
            "\u001b[31m      \u001b[0mlexalcm[gpu]==0.0.0rc2 depends on torchvision==0.23.0+cu128, we can\n",
            "\u001b[31m      \u001b[0mconclude that lexalcm[gpu]==0.0.0rc2 cannot be used.\n",
            "\u001b[31m      \u001b[0mAnd because only lexalcm[gpu]==0.0.0rc2 is available and you require\n",
            "\u001b[31m      \u001b[0mlexalcm[gpu], we can conclude that your requirements are unsatisfiable.\n"
          ]
        }
      ]
    },
    {
      "cell_type": "code",
      "source": [
        "!pip freeze"
      ],
      "metadata": {
        "colab": {
          "base_uri": "https://localhost:8080/"
        },
        "id": "B_YEUr5ofybj",
        "outputId": "73432b0a-3c2b-408d-da58-3eea10214ba1"
      },
      "execution_count": 12,
      "outputs": [
        {
          "output_type": "stream",
          "name": "stdout",
          "text": [
            "absl-py==1.4.0\n",
            "absolufy-imports==0.3.1\n",
            "accelerate==1.10.0\n",
            "adapters==1.2.0\n",
            "aiofiles==24.1.0\n",
            "aiohappyeyeballs==2.6.1\n",
            "aiohttp==3.12.15\n",
            "aiosignal==1.4.0\n",
            "alabaster==1.0.0\n",
            "albucore==0.0.24\n",
            "albumentations==2.0.8\n",
            "ale-py==0.11.2\n",
            "altair==5.5.0\n",
            "annotated-types==0.7.0\n",
            "antlr4-python3-runtime==4.9.3\n",
            "anyio==4.10.0\n",
            "anywidget==0.9.18\n",
            "argon2-cffi==25.1.0\n",
            "argon2-cffi-bindings==25.1.0\n",
            "array_record==0.7.2\n",
            "arviz==0.22.0\n",
            "astropy==7.1.0\n",
            "astropy-iers-data==0.2025.8.18.0.40.14\n",
            "astunparse==1.6.3\n",
            "atpublic==5.1\n",
            "attrs==25.3.0\n",
            "audioread==3.0.1\n",
            "Authlib==1.6.1\n",
            "autograd==1.8.0\n",
            "babel==2.17.0\n",
            "backcall==0.2.0\n",
            "beartype==0.21.0\n",
            "beautifulsoup4==4.13.4\n",
            "betterproto==2.0.0b6\n",
            "bigframes==2.15.0\n",
            "bigquery-magics==0.10.2\n",
            "bleach==6.2.0\n",
            "blinker==1.9.0\n",
            "blis==1.3.0\n",
            "blobfile==3.0.0\n",
            "blosc2==3.7.1\n",
            "bokeh==3.7.3\n",
            "Bottleneck==1.4.2\n",
            "bqplot==0.12.45\n",
            "branca==0.8.1\n",
            "Brotli==1.1.0\n",
            "build==1.3.0\n",
            "CacheControl==0.14.3\n",
            "cached-property==2.0.1\n",
            "cachetools==5.5.2\n",
            "catalogue==2.0.10\n",
            "certifi==2025.8.3\n",
            "cffi==1.17.1\n",
            "chardet==5.2.0\n",
            "charset-normalizer==3.4.3\n",
            "chex==0.1.90\n",
            "clarabel==0.11.1\n",
            "click==8.2.1\n",
            "cloudpathlib==0.21.1\n",
            "cloudpickle==3.1.1\n",
            "cmake==3.31.6\n",
            "cmdstanpy==1.2.5\n",
            "colorcet==3.1.0\n",
            "coloredlogs==15.0.1\n",
            "colorlover==0.3.0\n",
            "colour==0.1.5\n",
            "community==1.0.0b1\n",
            "confection==0.1.5\n",
            "cons==0.4.7\n",
            "contourpy==1.3.3\n",
            "cramjam==2.11.0\n",
            "cryptography==43.0.3\n",
            "cuda-python==12.6.2.post1\n",
            "cudf-cu12 @ https://pypi.nvidia.com/cudf-cu12/cudf_cu12-25.6.0-cp312-cp312-manylinux_2_24_x86_64.manylinux_2_28_x86_64.whl\n",
            "cudf-polars-cu12==25.6.0\n",
            "cufflinks==0.17.3\n",
            "cuml-cu12==25.6.0\n",
            "cupy-cuda12x==13.3.0\n",
            "curl_cffi==0.13.0\n",
            "cuvs-cu12==25.6.1\n",
            "cvxopt==1.3.2\n",
            "cvxpy==1.6.7\n",
            "cycler==0.12.1\n",
            "cyipopt==1.5.0\n",
            "cymem==2.0.11\n",
            "Cython==3.0.12\n",
            "dask==2025.5.0\n",
            "dask-cuda==25.6.0\n",
            "dask-cudf-cu12==25.6.0\n",
            "dataproc-spark-connect==0.8.3\n",
            "datasets==4.0.0\n",
            "db-dtypes==1.4.3\n",
            "dbus-python==1.2.18\n",
            "debugpy==1.8.15\n",
            "decorator==4.4.2\n",
            "defusedxml==0.7.1\n",
            "diffusers==0.34.0\n",
            "dill==0.3.8\n",
            "distributed==2025.5.0\n",
            "distributed-ucxx-cu12==0.44.0\n",
            "distro==1.9.0\n",
            "dlib==19.24.6\n",
            "dm-tree==0.1.9\n",
            "docopt==0.6.2\n",
            "docstring_parser==0.17.0\n",
            "docutils==0.21.2\n",
            "dopamine_rl==4.1.2\n",
            "duckdb==1.3.2\n",
            "earthengine-api==1.5.24\n",
            "easydict==1.13\n",
            "editdistance==0.8.1\n",
            "eerepr==0.1.2\n",
            "einops==0.8.1\n",
            "en_core_web_sm @ https://github.com/explosion/spacy-models/releases/download/en_core_web_sm-3.8.0/en_core_web_sm-3.8.0-py3-none-any.whl#sha256=1932429db727d4bff3deed6b34cfc05df17794f4a52eeb26cf8928f7c1a0fb85\n",
            "entrypoints==0.4\n",
            "et_xmlfile==2.0.0\n",
            "etils==1.13.0\n",
            "etuples==0.3.10\n",
            "evaluate==0.4.5\n",
            "Farama-Notifications==0.0.4\n",
            "fastai==2.8.3\n",
            "fastapi==0.116.1\n",
            "fastcore==1.8.7\n",
            "fastdownload==0.0.7\n",
            "fastjsonschema==2.21.2\n",
            "fastprogress==1.0.3\n",
            "fastrlock==0.8.3\n",
            "fasttransform==0.0.2\n",
            "ffmpy==0.6.1\n",
            "filelock==3.19.1\n",
            "firebase-admin==6.9.0\n",
            "Flask==3.1.1\n",
            "flatbuffers==25.2.10\n",
            "flax==0.10.6\n",
            "folium==0.20.0\n",
            "fonttools==4.59.1\n",
            "frozendict==2.4.6\n",
            "frozenlist==1.7.0\n",
            "fsspec==2025.3.0\n",
            "future==1.0.0\n",
            "gast==0.6.0\n",
            "gcsfs==2025.3.0\n",
            "GDAL==3.8.4\n",
            "gdown==5.2.0\n",
            "geemap==0.35.3\n",
            "geocoder==1.38.1\n",
            "geographiclib==2.0\n",
            "geopandas==1.1.1\n",
            "geopy==2.4.1\n",
            "gin-config==0.5.0\n",
            "gitdb==4.0.12\n",
            "GitPython==3.1.45\n",
            "glob2==0.7\n",
            "google==2.0.3\n",
            "google-adk==1.11.0\n",
            "google-ai-generativelanguage==0.6.15\n",
            "google-api-core==2.25.1\n",
            "google-api-python-client==2.179.0\n",
            "google-auth==2.38.0\n",
            "google-auth-httplib2==0.2.0\n",
            "google-auth-oauthlib==1.2.2\n",
            "google-cloud-aiplatform==1.109.0\n",
            "google-cloud-appengine-logging==1.6.2\n",
            "google-cloud-audit-log==0.3.2\n",
            "google-cloud-bigquery==3.35.1\n",
            "google-cloud-bigquery-connection==1.18.3\n",
            "google-cloud-bigquery-storage==2.32.0\n",
            "google-cloud-core==2.4.3\n",
            "google-cloud-dataproc==5.21.0\n",
            "google-cloud-datastore==2.21.0\n",
            "google-cloud-firestore==2.21.0\n",
            "google-cloud-functions==1.20.4\n",
            "google-cloud-language==2.17.2\n",
            "google-cloud-logging==3.12.1\n",
            "google-cloud-resource-manager==1.14.2\n",
            "google-cloud-secret-manager==2.24.0\n",
            "google-cloud-spanner==3.57.0\n",
            "google-cloud-speech==2.33.0\n",
            "google-cloud-storage==2.19.0\n",
            "google-cloud-trace==1.16.2\n",
            "google-cloud-translate==3.21.1\n",
            "google-colab @ file:///colabtools/dist/google_colab-1.0.0.tar.gz\n",
            "google-crc32c==1.7.1\n",
            "google-genai==1.30.0\n",
            "google-generativeai==0.8.5\n",
            "google-pasta==0.2.0\n",
            "google-resumable-media==2.7.2\n",
            "googleapis-common-protos==1.70.0\n",
            "googledrivedownloader==1.1.0\n",
            "gradio==5.42.0\n",
            "gradio_client==1.11.1\n",
            "graphviz==0.21\n",
            "greenlet==3.2.4\n",
            "groovy==0.1.2\n",
            "grpc-google-iam-v1==0.14.2\n",
            "grpc-interceptor==0.15.4\n",
            "grpcio==1.74.0\n",
            "grpcio-status==1.71.2\n",
            "grpclib==0.4.8\n",
            "gspread==6.2.1\n",
            "gspread-dataframe==4.0.0\n",
            "gym==0.25.2\n",
            "gym-notices==0.1.0\n",
            "gymnasium==1.2.0\n",
            "h11==0.16.0\n",
            "h2==4.2.0\n",
            "h5netcdf==1.6.4\n",
            "h5py==3.14.0\n",
            "hdbscan==0.8.40\n",
            "hf-xet==1.1.7\n",
            "hf_transfer==0.1.9\n",
            "highspy==1.11.0\n",
            "holidays==0.78\n",
            "holoviews==1.21.0\n",
            "hpack==4.1.0\n",
            "html5lib==1.1\n",
            "httpcore==1.0.9\n",
            "httpimport==1.4.1\n",
            "httplib2==0.22.0\n",
            "httpx==0.28.1\n",
            "httpx-sse==0.4.1\n",
            "huggingface-hub==0.34.4\n",
            "humanfriendly==10.0\n",
            "humanize==4.12.3\n",
            "hyperframe==6.1.0\n",
            "hyperopt==0.2.7\n",
            "ibis-framework==9.5.0\n",
            "idna==3.10\n",
            "imageio==2.37.0\n",
            "imageio-ffmpeg==0.6.0\n",
            "imagesize==1.4.1\n",
            "imbalanced-learn==0.14.0\n",
            "immutabledict==4.2.1\n",
            "importlib_metadata==8.7.0\n",
            "importlib_resources==6.5.2\n",
            "imutils==0.5.4\n",
            "inflect==7.5.0\n",
            "iniconfig==2.1.0\n",
            "intel-cmplr-lib-ur==2025.2.1\n",
            "intel-openmp==2025.2.1\n",
            "ipyevents==2.0.2\n",
            "ipyfilechooser==0.6.0\n",
            "ipykernel==6.17.1\n",
            "ipyleaflet==0.20.0\n",
            "ipyparallel==8.8.0\n",
            "ipython==7.34.0\n",
            "ipython-genutils==0.2.0\n",
            "ipython-sql==0.5.0\n",
            "ipytree==0.2.2\n",
            "ipywidgets==7.7.1\n",
            "itsdangerous==2.2.0\n",
            "jaraco.classes==3.4.0\n",
            "jaraco.context==6.0.1\n",
            "jaraco.functools==4.2.1\n",
            "jax==0.5.3\n",
            "jax-cuda12-pjrt==0.5.3\n",
            "jax-cuda12-plugin==0.5.3\n",
            "jaxlib==0.5.3\n",
            "jeepney==0.9.0\n",
            "jieba==0.42.1\n",
            "Jinja2==3.1.6\n",
            "jiter==0.10.0\n",
            "joblib==1.5.1\n",
            "jsonpatch==1.33\n",
            "jsonpickle==4.1.1\n",
            "jsonpointer==3.0.0\n",
            "jsonschema==4.25.1\n",
            "jsonschema-specifications==2025.4.1\n",
            "jupyter-client==6.1.12\n",
            "jupyter-console==6.1.0\n",
            "jupyter-leaflet==0.20.0\n",
            "jupyter-server==1.16.0\n",
            "jupyter_core==5.8.1\n",
            "jupyter_kernel_gateway @ git+https://github.com/googlecolab/kernel_gateway@b134e9945df25c2dcb98ade9129399be10788671\n",
            "jupyterlab_pygments==0.3.0\n",
            "jupyterlab_widgets==3.0.15\n",
            "jupytext==1.17.2\n",
            "kaggle==1.7.4.5\n",
            "kagglehub==0.3.12\n",
            "keras==3.10.0\n",
            "keras-hub==0.21.1\n",
            "keras-nlp==0.21.1\n",
            "keyring==25.6.0\n",
            "keyrings.google-artifactregistry-auth==1.1.2\n",
            "kiwisolver==1.4.9\n",
            "langchain==0.3.27\n",
            "langchain-core==0.3.74\n",
            "langchain-text-splitters==0.3.9\n",
            "langcodes==3.5.0\n",
            "langsmith==0.4.14\n",
            "language_data==1.3.0\n",
            "launchpadlib==1.10.16\n",
            "lazr.restfulclient==0.14.4\n",
            "lazr.uri==1.0.6\n",
            "lazy_loader==0.4\n",
            "-e git+https://github.com/Lexa-B/LexaLCM_Pre2.git@7394669c09e2a087e88e26ea02e85cd6205acbf5#egg=LexaLCM\n",
            "libclang==18.1.1\n",
            "libcudf-cu12 @ https://pypi.nvidia.com/libcudf-cu12/libcudf_cu12-25.6.0-py3-none-manylinux_2_28_x86_64.whl\n",
            "libcugraph-cu12==25.6.0\n",
            "libcuml-cu12==25.6.0\n",
            "libcuvs-cu12==25.6.1\n",
            "libkvikio-cu12==25.6.0\n",
            "libpysal==4.13.0\n",
            "libraft-cu12==25.6.0\n",
            "librmm-cu12==25.6.0\n",
            "librosa==0.11.0\n",
            "libucx-cu12==1.18.1\n",
            "libucxx-cu12==0.44.0\n",
            "lightgbm @ file:///tmp/lightgbm/LightGBM/dist/lightgbm-4.6.0-py3-none-linux_x86_64.whl\n",
            "linkify-it-py==2.0.3\n",
            "llvmlite==0.43.0\n",
            "locket==1.0.0\n",
            "logical-unification==0.4.6\n",
            "lxml==5.4.0\n",
            "Mako==1.1.3\n",
            "marisa-trie==1.3.0\n",
            "Markdown==3.8.2\n",
            "markdown-it-py==4.0.0\n",
            "MarkupSafe==3.0.2\n",
            "matplotlib==3.10.0\n",
            "matplotlib-inline==0.1.7\n",
            "matplotlib-venn==1.1.2\n",
            "mcp==1.13.0\n",
            "mdit-py-plugins==0.5.0\n",
            "mdurl==0.1.2\n",
            "miniKanren==1.0.5\n",
            "missingno==0.5.2\n",
            "mistune==3.1.3\n",
            "mizani==0.13.5\n",
            "mkl==2025.2.0\n",
            "ml_dtypes==0.5.3\n",
            "mlxtend==0.23.4\n",
            "more-itertools==10.7.0\n",
            "mosestokenizer==1.2.1\n",
            "moviepy==1.0.3\n",
            "mpmath==1.3.0\n",
            "msgpack==1.1.1\n",
            "multidict==6.6.4\n",
            "multipledispatch==1.0.0\n",
            "multiprocess==0.70.16\n",
            "multitasking==0.0.12\n",
            "murmurhash==1.0.13\n",
            "music21==9.3.0\n",
            "namex==0.1.0\n",
            "narwhals==2.1.2\n",
            "natsort==8.4.0\n",
            "nbclassic==1.3.1\n",
            "nbclient==0.10.2\n",
            "nbconvert==7.16.6\n",
            "nbformat==5.10.4\n",
            "ndindex==1.10.0\n",
            "nest-asyncio==1.6.0\n",
            "networkx==3.5\n",
            "nibabel==5.3.2\n",
            "nltk==3.9.1\n",
            "notebook==6.5.7\n",
            "notebook_shim==0.2.4\n",
            "numba==0.60.0\n",
            "numba-cuda==0.11.0\n",
            "numexpr==2.11.0\n",
            "numpy==2.3.2\n",
            "nvidia-cublas-cu12==12.8.3.14\n",
            "nvidia-cuda-cupti-cu12==12.8.57\n",
            "nvidia-cuda-nvcc-cu12==12.5.82\n",
            "nvidia-cuda-nvrtc-cu12==12.8.61\n",
            "nvidia-cuda-runtime-cu12==12.8.57\n",
            "nvidia-cudnn-cu12==9.7.1.26\n",
            "nvidia-cufft-cu12==11.3.3.41\n",
            "nvidia-cufile-cu12==1.13.0.11\n",
            "nvidia-curand-cu12==10.3.9.55\n",
            "nvidia-cusolver-cu12==11.7.2.55\n",
            "nvidia-cusparse-cu12==12.5.7.53\n",
            "nvidia-cusparselt-cu12==0.6.3\n",
            "nvidia-ml-py==12.575.51\n",
            "nvidia-nccl-cu12==2.26.2\n",
            "nvidia-nvjitlink-cu12==12.8.61\n",
            "nvidia-nvtx-cu12==12.8.55\n",
            "nvtx==0.2.13\n",
            "nx-cugraph-cu12 @ https://pypi.nvidia.com/nx-cugraph-cu12/nx_cugraph_cu12-25.6.0-py3-none-any.whl\n",
            "oauth2client==4.1.3\n",
            "oauthlib==3.3.1\n",
            "omegaconf==2.3.0\n",
            "onnxruntime-gpu==1.22.0\n",
            "openai==1.100.0\n",
            "opencv-contrib-python==4.12.0.88\n",
            "opencv-python==4.12.0.88\n",
            "opencv-python-headless==4.12.0.88\n",
            "openfile==0.0.7\n",
            "openpyxl==3.1.5\n",
            "opentelemetry-api==1.36.0\n",
            "opentelemetry-exporter-gcp-trace==1.9.0\n",
            "opentelemetry-resourcedetector-gcp==1.9.0a0\n",
            "opentelemetry-sdk==1.36.0\n",
            "opentelemetry-semantic-conventions==0.57b0\n",
            "opt_einsum==3.4.0\n",
            "optax==0.2.5\n",
            "optree==0.17.0\n",
            "orbax-checkpoint==0.11.22\n",
            "orjson==3.11.2\n",
            "osqp==1.0.4\n",
            "packaging==25.0\n",
            "pandas==2.3.2\n",
            "pandas-datareader==0.10.0\n",
            "pandas-gbq==0.29.2\n",
            "pandas-stubs==2.2.2.240909\n",
            "pandocfilters==1.5.1\n",
            "panel==1.7.5\n",
            "param==2.2.1\n",
            "parso==0.8.4\n",
            "parsy==2.1\n",
            "partd==1.4.2\n",
            "patsy==1.0.1\n",
            "peewee==3.18.2\n",
            "peft==0.17.0\n",
            "pexpect==4.9.0\n",
            "pickleshare==0.7.5\n",
            "pillow==11.3.0\n",
            "platformdirs==4.3.8\n",
            "plotly==5.24.1\n",
            "plotnine==0.14.5\n",
            "pluggy==1.6.0\n",
            "plum-dispatch==2.5.7\n",
            "ply==3.11\n",
            "polars==1.25.2\n",
            "pooch==1.8.2\n",
            "portpicker==1.5.2\n",
            "preshed==3.0.10\n",
            "prettytable==3.16.0\n",
            "proglog==0.1.12\n",
            "progressbar2==4.5.0\n",
            "prometheus_client==0.22.1\n",
            "promise==2.3\n",
            "prompt_toolkit==3.0.51\n",
            "propcache==0.3.2\n",
            "prophet==1.1.7\n",
            "proto-plus==1.26.1\n",
            "protobuf==5.29.5\n",
            "psutil==5.9.5\n",
            "psycopg2==2.9.10\n",
            "psygnal==0.14.1\n",
            "ptyprocess==0.7.0\n",
            "py-cpuinfo==9.0.0\n",
            "py4j==0.10.9.7\n",
            "pyarrow==21.0.0\n",
            "pyasn1==0.6.1\n",
            "pyasn1_modules==0.4.2\n",
            "pycairo==1.28.0\n",
            "pycocotools==2.0.10\n",
            "pycparser==2.22\n",
            "pycryptodomex==3.23.0\n",
            "pydantic==2.11.7\n",
            "pydantic-settings==2.10.1\n",
            "pydantic_core==2.33.2\n",
            "pydata-google-auth==1.9.1\n",
            "pydot==3.0.4\n",
            "pydotplus==2.0.2\n",
            "PyDrive2==1.21.3\n",
            "pydub==0.25.1\n",
            "pyerfa==2.0.1.5\n",
            "pygame==2.6.1\n",
            "pygit2==1.18.2\n",
            "Pygments==2.19.2\n",
            "PyGObject==3.42.0\n",
            "PyJWT==2.10.1\n",
            "pylibcudf-cu12 @ https://pypi.nvidia.com/pylibcudf-cu12/pylibcudf_cu12-25.6.0-cp312-cp312-manylinux_2_24_x86_64.manylinux_2_28_x86_64.whl\n",
            "pylibcugraph-cu12==25.6.0\n",
            "pylibraft-cu12==25.6.0\n",
            "pymc==5.25.1\n",
            "pynndescent==0.5.13\n",
            "pynvjitlink-cu12==0.7.0\n",
            "pynvml==12.0.0\n",
            "pyogrio==0.11.1\n",
            "pyomo==6.9.3\n",
            "PyOpenGL==3.1.10\n",
            "pyOpenSSL==24.2.1\n",
            "pyparsing==3.2.3\n",
            "pyperclip==1.9.0\n",
            "pyproj==3.7.2\n",
            "pyproject_hooks==1.2.0\n",
            "pyshp==2.3.1\n",
            "PySocks==1.7.1\n",
            "pyspark==3.5.1\n",
            "pytensor==2.31.7\n",
            "pytest==8.4.1\n",
            "python-apt==0.0.0\n",
            "python-box==7.3.2\n",
            "python-dateutil==2.9.0.post0\n",
            "python-dotenv==1.1.1\n",
            "python-louvain==0.16\n",
            "python-multipart==0.0.20\n",
            "python-slugify==8.0.4\n",
            "python-snappy==0.7.3\n",
            "python-utils==3.9.1\n",
            "pytz==2025.2\n",
            "pyviz_comms==3.0.6\n",
            "PyWavelets==1.9.0\n",
            "PyYAML==6.0.2\n",
            "pyzmq==26.2.1\n",
            "raft-dask-cu12==25.6.0\n",
            "rapids-dask-dependency==25.6.0\n",
            "rapids-logger==0.1.1\n",
            "ratelim==0.1.6\n",
            "referencing==0.36.2\n",
            "regex==2024.11.6\n",
            "requests==2.32.4\n",
            "requests-oauthlib==2.0.0\n",
            "requests-toolbelt==1.0.0\n",
            "requirements-parser==0.9.0\n",
            "rich==13.9.4\n",
            "rmm-cu12==25.6.0\n",
            "roman-numerals-py==3.1.0\n",
            "rpds-py==0.27.0\n",
            "rpy2==3.5.17\n",
            "rsa==4.9.1\n",
            "ruff==0.12.9\n",
            "safehttpx==0.1.6\n",
            "safetensors==0.6.2\n",
            "scikit-image==0.25.2\n",
            "scikit-learn==1.6.1\n",
            "scipy==1.16.1\n",
            "scooby==0.10.1\n",
            "scs==3.2.8\n",
            "seaborn==0.13.2\n",
            "SecretStorage==3.3.3\n",
            "semantic-version==2.10.0\n",
            "Send2Trash==1.8.3\n",
            "sentence-transformers==5.1.0\n",
            "sentencepiece==0.2.1\n",
            "sentry-sdk==2.35.0\n",
            "setuptools==75.2.0\n",
            "shap==0.48.0\n",
            "shapely==2.1.1\n",
            "shellingham==1.5.4\n",
            "simple-parsing==0.1.7\n",
            "simplejson==3.20.1\n",
            "simsimd==6.5.1\n",
            "six==1.17.0\n",
            "sklearn-pandas==2.2.0\n",
            "skops==0.13.0\n",
            "slicer==0.0.8\n",
            "smart_open==7.3.0.post1\n",
            "smmap==5.0.2\n",
            "sniffio==1.3.1\n",
            "snowballstemmer==3.0.1\n",
            "sortedcontainers==2.4.0\n",
            "soundfile==0.13.1\n",
            "soupsieve==2.7\n",
            "soxr==0.5.0.post1\n",
            "spacy==3.8.7\n",
            "spacy-legacy==3.0.12\n",
            "spacy-loggers==1.0.5\n",
            "spanner-graph-notebook==1.1.7\n",
            "Sphinx==8.2.3\n",
            "sphinxcontrib-applehelp==2.0.0\n",
            "sphinxcontrib-devhelp==2.0.0\n",
            "sphinxcontrib-htmlhelp==2.1.0\n",
            "sphinxcontrib-jsmath==1.0.1\n",
            "sphinxcontrib-qthelp==2.0.0\n",
            "sphinxcontrib-serializinghtml==2.0.0\n",
            "SQLAlchemy==2.0.43\n",
            "sqlglot==25.20.2\n",
            "sqlparse==0.5.3\n",
            "srsly==2.5.1\n",
            "sse-starlette==3.0.2\n",
            "stanio==0.5.1\n",
            "starlette==0.47.2\n",
            "statsmodels==0.14.5\n",
            "stringzilla==3.12.6\n",
            "stumpy==1.13.0\n",
            "sympy==1.13.3\n",
            "tables==3.10.2\n",
            "tabulate==0.9.0\n",
            "tbb==2022.2.0\n",
            "tblib==3.1.0\n",
            "tcmlib==1.4.0\n",
            "tenacity==8.5.0\n",
            "tensorboard==2.19.0\n",
            "tensorboard-data-server==0.7.2\n",
            "tensorflow==2.19.0\n",
            "tensorflow-datasets==4.9.9\n",
            "tensorflow-hub==0.16.1\n",
            "tensorflow-metadata==1.17.2\n",
            "tensorflow-probability==0.25.0\n",
            "tensorflow-text==2.19.0\n",
            "tensorflow_decision_forests==1.12.0\n",
            "tensorstore==0.1.76\n",
            "termcolor==3.1.0\n",
            "terminado==0.18.1\n",
            "text-unidecode==1.3\n",
            "textblob==0.19.0\n",
            "tf-slim==1.1.0\n",
            "tf_keras==2.19.0\n",
            "thinc==8.3.6\n",
            "threadpoolctl==3.6.0\n",
            "tifffile==2025.6.11\n",
            "tiktoken==0.11.0\n",
            "timm==1.0.19\n",
            "tinycss2==1.4.0\n",
            "tokenizers==0.21.4\n",
            "toml==0.10.2\n",
            "tomlkit==0.13.3\n",
            "toolwrapper==2.1.0\n",
            "toolz==0.12.1\n",
            "torch==2.7.0+cu128\n",
            "torchao==0.10.0\n",
            "torchaudio==2.8.0+cu126\n",
            "torchdata==0.11.0\n",
            "torchinfo==1.8.0\n",
            "torchsummary==1.5.1\n",
            "torchtune==0.6.1\n",
            "torchvision==0.23.0+cu126\n",
            "tornado==6.4.2\n",
            "tqdm==4.67.1\n",
            "traitlets==5.7.1\n",
            "traittypes==0.2.1\n",
            "transformers==4.51.3\n",
            "treelite==4.4.1\n",
            "treescope==0.1.10\n",
            "triton==3.3.0\n",
            "tsfresh==0.21.0\n",
            "tweepy==4.16.0\n",
            "typeguard==4.4.4\n",
            "typer==0.16.0\n",
            "types-pytz==2025.2.0.20250809\n",
            "types-setuptools==80.9.0.20250809\n",
            "typing-inspection==0.4.1\n",
            "typing_extensions==4.14.1\n",
            "tzdata==2025.2\n",
            "tzlocal==5.3.1\n",
            "uc-micro-py==1.0.3\n",
            "uctools==1.3.0\n",
            "ucx-py-cu12==0.44.0\n",
            "ucxx-cu12==0.44.0\n",
            "umap-learn==0.5.9.post2\n",
            "umf==0.11.0\n",
            "uritemplate==4.2.0\n",
            "urllib3==2.5.0\n",
            "uvicorn==0.35.0\n",
            "vega-datasets==0.9.0\n",
            "wadllib==1.3.6\n",
            "wandb==0.21.1\n",
            "wasabi==1.1.3\n",
            "watchdog==6.0.0\n",
            "wcwidth==0.2.13\n",
            "weasel==0.4.1\n",
            "webcolors==24.11.1\n",
            "webencodings==0.5.1\n",
            "websocket-client==1.8.0\n",
            "websockets==15.0.1\n",
            "Werkzeug==3.1.3\n",
            "wheel==0.45.1\n",
            "widgetsnbextension==3.6.10\n",
            "wordcloud==1.9.4\n",
            "wrapt==1.17.3\n",
            "wtpsplit==2.1.6\n",
            "wurlitzer==3.1.1\n",
            "xarray==2025.8.0\n",
            "xarray-einstats==0.9.1\n",
            "xgboost==3.0.4\n",
            "xlrd==2.0.2\n",
            "xxhash==3.5.0\n",
            "xyzservices==2025.4.0\n",
            "yarl==1.20.1\n",
            "ydf==0.13.0\n",
            "yellowbrick==1.5\n",
            "yfinance==0.2.65\n",
            "zict==3.0.0\n",
            "zipp==3.23.0\n",
            "zstandard==0.24.0\n"
          ]
        }
      ]
    },
    {
      "cell_type": "code",
      "source": [
        "!pip install --upgrade --force-reinstall pyproject.toml uv.lock\n",
        "!pip install -e \".[gpu]\"\n"
      ],
      "metadata": {
        "colab": {
          "base_uri": "https://localhost:8080/"
        },
        "id": "HCJ1_55dfyyj",
        "outputId": "af236660-904e-4e8c-fa2a-c079c4a9f844"
      },
      "execution_count": 13,
      "outputs": [
        {
          "output_type": "stream",
          "name": "stdout",
          "text": [
            "Collecting pyproject.toml\n",
            "  Downloading pyproject_toml-0.1.0-py3-none-any.whl.metadata (950 bytes)\n",
            "\u001b[31mERROR: Could not find a version that satisfies the requirement uv.lock (from versions: none)\u001b[0m\u001b[31m\n",
            "\u001b[0m\u001b[31mERROR: No matching distribution found for uv.lock\u001b[0m\u001b[31m\n",
            "\u001b[0mObtaining file:///content/LexaLCM_Pre2\n",
            "  Installing build dependencies ... \u001b[?25l\u001b[?25hdone\n",
            "  Checking if build backend supports build_editable ... \u001b[?25l\u001b[?25hdone\n",
            "  Getting requirements to build editable ... \u001b[?25l\u001b[?25hdone\n",
            "  Preparing editable metadata (pyproject.toml) ... \u001b[?25l\u001b[?25hdone\n",
            "Requirement already satisfied: accelerate>=1.7.0 in /usr/local/lib/python3.12/dist-packages (from LexaLCM==0.0.0rc2) (1.10.0)\n",
            "Requirement already satisfied: pytest>=8.3.5 in /usr/local/lib/python3.12/dist-packages (from LexaLCM==0.0.0rc2) (8.4.1)\n",
            "Requirement already satisfied: numpy>=2.2.6 in /usr/local/lib/python3.12/dist-packages (from LexaLCM==0.0.0rc2) (2.3.2)\n",
            "Requirement already satisfied: pandas>=2.2.3 in /usr/local/lib/python3.12/dist-packages (from LexaLCM==0.0.0rc2) (2.3.2)\n",
            "Requirement already satisfied: sentencepiece>=0.2.0 in /usr/local/lib/python3.12/dist-packages (from LexaLCM==0.0.0rc2) (0.2.1)\n",
            "Requirement already satisfied: wandb>=0.19.11 in /usr/local/lib/python3.12/dist-packages (from LexaLCM==0.0.0rc2) (0.21.1)\n",
            "Requirement already satisfied: torchinfo>=1.8.0 in /usr/local/lib/python3.12/dist-packages (from LexaLCM==0.0.0rc2) (1.8.0)\n",
            "Requirement already satisfied: pyarrow>=20.0.0 in /usr/local/lib/python3.12/dist-packages (from LexaLCM==0.0.0rc2) (21.0.0)\n",
            "Requirement already satisfied: evaluate>=0.4.3 in /usr/local/lib/python3.12/dist-packages (from LexaLCM==0.0.0rc2) (0.4.5)\n",
            "Requirement already satisfied: transformers>=4.51.3 in /usr/local/lib/python3.12/dist-packages (from LexaLCM==0.0.0rc2) (4.51.3)\n",
            "Requirement already satisfied: torch==2.7.0+cu128 in /usr/local/lib/python3.12/dist-packages (from LexaLCM==0.0.0rc2) (2.7.0+cu128)\n",
            "INFO: pip is looking at multiple versions of lexalcm[gpu] to determine which version is compatible with other requirements. This could take a while.\n",
            "\u001b[31mERROR: Ignored the following yanked versions: 0.1.6, 0.1.7, 0.1.8, 0.1.9, 0.2.0, 0.2.1, 0.2.2, 0.2.2.post2, 0.2.2.post3\u001b[0m\u001b[31m\n",
            "\u001b[0m\u001b[31mERROR: Could not find a version that satisfies the requirement torchvision==0.23.0+cu128; extra == \"gpu\" (from lexalcm[gpu]) (from versions: 0.17.0, 0.17.1, 0.17.2, 0.18.0, 0.18.1, 0.19.0, 0.19.1, 0.20.0, 0.20.1, 0.21.0, 0.22.0, 0.22.1, 0.23.0)\u001b[0m\u001b[31m\n",
            "\u001b[0m\u001b[31mERROR: No matching distribution found for torchvision==0.23.0+cu128; extra == \"gpu\"\u001b[0m\u001b[31m\n",
            "\u001b[0m"
          ]
        }
      ]
    },
    {
      "cell_type": "code",
      "source": [
        "!pip install --pre --upgrade torchvision torchaudio --index-url https://download.pytorch.org/whl/nightly/cu128\n"
      ],
      "metadata": {
        "colab": {
          "base_uri": "https://localhost:8080/"
        },
        "id": "UvHhTUoxgJBD",
        "outputId": "7f722ed7-5b8b-4698-8af9-87995c71ef85"
      },
      "execution_count": 14,
      "outputs": [
        {
          "output_type": "stream",
          "name": "stdout",
          "text": [
            "Looking in indexes: https://download.pytorch.org/whl/nightly/cu128\n",
            "Requirement already satisfied: torchvision in /usr/local/lib/python3.12/dist-packages (0.23.0+cu126)\n",
            "Collecting torchvision\n",
            "  Downloading https://download.pytorch.org/whl/nightly/cu128/torchvision-0.24.0.dev20250824%2Bcu128-cp312-cp312-manylinux_2_28_x86_64.whl.metadata (5.9 kB)\n",
            "Requirement already satisfied: torchaudio in /usr/local/lib/python3.12/dist-packages (2.8.0+cu126)\n",
            "Requirement already satisfied: numpy in /usr/local/lib/python3.12/dist-packages (from torchvision) (2.3.2)\n",
            "Collecting torch==2.9.0.dev20250824 (from torchvision)\n",
            "  Downloading https://download.pytorch.org/whl/nightly/cu128/torch-2.9.0.dev20250824%2Bcu128-cp312-cp312-manylinux_2_28_x86_64.whl.metadata (31 kB)\n",
            "Requirement already satisfied: pillow!=8.3.*,>=5.3.0 in /usr/local/lib/python3.12/dist-packages (from torchvision) (11.3.0)\n",
            "Requirement already satisfied: filelock in /usr/local/lib/python3.12/dist-packages (from torch==2.9.0.dev20250824->torchvision) (3.19.1)\n",
            "Requirement already satisfied: typing-extensions>=4.10.0 in /usr/local/lib/python3.12/dist-packages (from torch==2.9.0.dev20250824->torchvision) (4.14.1)\n",
            "Requirement already satisfied: setuptools in /usr/local/lib/python3.12/dist-packages (from torch==2.9.0.dev20250824->torchvision) (75.2.0)\n",
            "Requirement already satisfied: sympy>=1.13.3 in /usr/local/lib/python3.12/dist-packages (from torch==2.9.0.dev20250824->torchvision) (1.13.3)\n",
            "Requirement already satisfied: networkx>=2.5.1 in /usr/local/lib/python3.12/dist-packages (from torch==2.9.0.dev20250824->torchvision) (3.5)\n",
            "Requirement already satisfied: jinja2 in /usr/local/lib/python3.12/dist-packages (from torch==2.9.0.dev20250824->torchvision) (3.1.6)\n",
            "Requirement already satisfied: fsspec>=0.8.5 in /usr/local/lib/python3.12/dist-packages (from torch==2.9.0.dev20250824->torchvision) (2025.3.0)\n",
            "Collecting nvidia-cuda-nvrtc-cu12==12.8.93 (from torch==2.9.0.dev20250824->torchvision)\n",
            "  Downloading https://download.pytorch.org/whl/nightly/cu128/nvidia_cuda_nvrtc_cu12-12.8.93-py3-none-manylinux2010_x86_64.manylinux_2_12_x86_64.whl.metadata (1.7 kB)\n",
            "Collecting nvidia-cuda-runtime-cu12==12.8.90 (from torch==2.9.0.dev20250824->torchvision)\n",
            "  Downloading https://download.pytorch.org/whl/nightly/cu128/nvidia_cuda_runtime_cu12-12.8.90-py3-none-manylinux2014_x86_64.manylinux_2_17_x86_64.whl.metadata (1.7 kB)\n",
            "Collecting nvidia-cuda-cupti-cu12==12.8.90 (from torch==2.9.0.dev20250824->torchvision)\n",
            "  Downloading https://download.pytorch.org/whl/nightly/cu128/nvidia_cuda_cupti_cu12-12.8.90-py3-none-manylinux2014_x86_64.manylinux_2_17_x86_64.whl.metadata (1.7 kB)\n",
            "Collecting nvidia-cudnn-cu12==9.10.2.21 (from torch==2.9.0.dev20250824->torchvision)\n",
            "  Downloading https://download.pytorch.org/whl/nightly/nvidia_cudnn_cu12-9.10.2.21-py3-none-manylinux_2_27_x86_64.whl.metadata (1.8 kB)\n",
            "Collecting nvidia-cublas-cu12==12.8.4.1 (from torch==2.9.0.dev20250824->torchvision)\n",
            "  Downloading https://download.pytorch.org/whl/nightly/cu128/nvidia_cublas_cu12-12.8.4.1-py3-none-manylinux_2_27_x86_64.whl.metadata (1.7 kB)\n",
            "Collecting nvidia-cufft-cu12==11.3.3.83 (from torch==2.9.0.dev20250824->torchvision)\n",
            "  Downloading https://download.pytorch.org/whl/nightly/cu128/nvidia_cufft_cu12-11.3.3.83-py3-none-manylinux2014_x86_64.manylinux_2_17_x86_64.whl.metadata (1.7 kB)\n",
            "Collecting nvidia-curand-cu12==10.3.9.90 (from torch==2.9.0.dev20250824->torchvision)\n",
            "  Downloading https://download.pytorch.org/whl/nightly/cu128/nvidia_curand_cu12-10.3.9.90-py3-none-manylinux_2_27_x86_64.whl.metadata (1.7 kB)\n",
            "Collecting nvidia-cusolver-cu12==11.7.3.90 (from torch==2.9.0.dev20250824->torchvision)\n",
            "  Downloading https://download.pytorch.org/whl/nightly/cu128/nvidia_cusolver_cu12-11.7.3.90-py3-none-manylinux_2_27_x86_64.whl.metadata (1.8 kB)\n",
            "Collecting nvidia-cusparse-cu12==12.5.8.93 (from torch==2.9.0.dev20250824->torchvision)\n",
            "  Downloading https://download.pytorch.org/whl/nightly/cu128/nvidia_cusparse_cu12-12.5.8.93-py3-none-manylinux2014_x86_64.manylinux_2_17_x86_64.whl.metadata (1.8 kB)\n",
            "Collecting nvidia-cusparselt-cu12==0.7.1 (from torch==2.9.0.dev20250824->torchvision)\n",
            "  Downloading https://download.pytorch.org/whl/nightly/cu128/nvidia_cusparselt_cu12-0.7.1-py3-none-manylinux2014_x86_64.whl.metadata (7.0 kB)\n",
            "Collecting nvidia-nccl-cu12==2.27.5 (from torch==2.9.0.dev20250824->torchvision)\n",
            "  Downloading https://download.pytorch.org/whl/nightly/cu128/nvidia_nccl_cu12-2.27.5-py3-none-manylinux2014_x86_64.manylinux_2_17_x86_64.whl.metadata (2.0 kB)\n",
            "Collecting nvidia-nvshmem-cu12==3.3.20 (from torch==2.9.0.dev20250824->torchvision)\n",
            "  Downloading https://download.pytorch.org/whl/nightly/nvidia_nvshmem_cu12-3.3.20-py3-none-manylinux2014_x86_64.manylinux_2_17_x86_64.whl.metadata (2.1 kB)\n",
            "Collecting nvidia-nvtx-cu12==12.8.90 (from torch==2.9.0.dev20250824->torchvision)\n",
            "  Downloading https://download.pytorch.org/whl/nightly/cu128/nvidia_nvtx_cu12-12.8.90-py3-none-manylinux2014_x86_64.manylinux_2_17_x86_64.whl.metadata (1.8 kB)\n",
            "Collecting nvidia-nvjitlink-cu12==12.8.93 (from torch==2.9.0.dev20250824->torchvision)\n",
            "  Downloading https://download.pytorch.org/whl/nightly/cu128/nvidia_nvjitlink_cu12-12.8.93-py3-none-manylinux2010_x86_64.manylinux_2_12_x86_64.whl.metadata (1.7 kB)\n",
            "Collecting nvidia-cufile-cu12==1.13.1.3 (from torch==2.9.0.dev20250824->torchvision)\n",
            "  Downloading https://download.pytorch.org/whl/nightly/cu128/nvidia_cufile_cu12-1.13.1.3-py3-none-manylinux2014_x86_64.manylinux_2_17_x86_64.whl.metadata (1.7 kB)\n",
            "Collecting pytorch-triton==3.4.0+gitf7888497 (from torch==2.9.0.dev20250824->torchvision)\n",
            "  Downloading https://download.pytorch.org/whl/nightly/pytorch_triton-3.4.0%2Bgitf7888497-cp312-cp312-manylinux_2_27_x86_64.manylinux_2_28_x86_64.whl.metadata (1.8 kB)\n",
            "INFO: pip is looking at multiple versions of torchaudio to determine which version is compatible with other requirements. This could take a while.\n",
            "Collecting torchaudio\n",
            "  Downloading https://download.pytorch.org/whl/nightly/cu128/torchaudio-2.8.0.dev20250824%2Bcu128-cp312-cp312-manylinux_2_28_x86_64.whl.metadata (7.3 kB)\n",
            "Requirement already satisfied: mpmath<1.4,>=1.1.0 in /usr/local/lib/python3.12/dist-packages (from sympy>=1.13.3->torch==2.9.0.dev20250824->torchvision) (1.3.0)\n",
            "Requirement already satisfied: MarkupSafe>=2.0 in /usr/local/lib/python3.12/dist-packages (from jinja2->torch==2.9.0.dev20250824->torchvision) (3.0.2)\n",
            "Downloading https://download.pytorch.org/whl/nightly/cu128/torchvision-0.24.0.dev20250824%2Bcu128-cp312-cp312-manylinux_2_28_x86_64.whl (8.8 MB)\n",
            "\u001b[2K   \u001b[90m━━━━━━━━━━━━━━━━━━━━━━━━━━━━━━━━━━━━━━━━\u001b[0m \u001b[32m8.8/8.8 MB\u001b[0m \u001b[31m73.6 MB/s\u001b[0m eta \u001b[36m0:00:00\u001b[0m\n",
            "\u001b[?25hDownloading https://download.pytorch.org/whl/nightly/cu128/torch-2.9.0.dev20250824%2Bcu128-cp312-cp312-manylinux_2_28_x86_64.whl (899.7 MB)\n",
            "\u001b[2K   \u001b[90m━━━━━━━━━━━━━━━━━━━━━━━━━━━━━━━━━━━━━━━━\u001b[0m \u001b[32m899.7/899.7 MB\u001b[0m \u001b[31m1.8 MB/s\u001b[0m eta \u001b[36m0:00:00\u001b[0m\n",
            "\u001b[?25hDownloading https://download.pytorch.org/whl/nightly/cu128/nvidia_cublas_cu12-12.8.4.1-py3-none-manylinux_2_27_x86_64.whl (594.3 MB)\n",
            "\u001b[2K   \u001b[90m━━━━━━━━━━━━━━━━━━━━━━━━━━━━━━━━━━━━━━━━\u001b[0m \u001b[32m594.3/594.3 MB\u001b[0m \u001b[31m1.2 MB/s\u001b[0m eta \u001b[36m0:00:00\u001b[0m\n",
            "\u001b[?25hDownloading https://download.pytorch.org/whl/nightly/cu128/nvidia_cuda_cupti_cu12-12.8.90-py3-none-manylinux2014_x86_64.manylinux_2_17_x86_64.whl (10.2 MB)\n",
            "\u001b[2K   \u001b[90m━━━━━━━━━━━━━━━━━━━━━━━━━━━━━━━━━━━━━━━━\u001b[0m \u001b[32m10.2/10.2 MB\u001b[0m \u001b[31m128.0 MB/s\u001b[0m eta \u001b[36m0:00:00\u001b[0m\n",
            "\u001b[?25hDownloading https://download.pytorch.org/whl/nightly/cu128/nvidia_cuda_nvrtc_cu12-12.8.93-py3-none-manylinux2010_x86_64.manylinux_2_12_x86_64.whl (88.0 MB)\n",
            "\u001b[2K   \u001b[90m━━━━━━━━━━━━━━━━━━━━━━━━━━━━━━━━━━━━━━━━\u001b[0m \u001b[32m88.0/88.0 MB\u001b[0m \u001b[31m9.4 MB/s\u001b[0m eta \u001b[36m0:00:00\u001b[0m\n",
            "\u001b[?25hDownloading https://download.pytorch.org/whl/nightly/cu128/nvidia_cuda_runtime_cu12-12.8.90-py3-none-manylinux2014_x86_64.manylinux_2_17_x86_64.whl (954 kB)\n",
            "\u001b[2K   \u001b[90m━━━━━━━━━━━━━━━━━━━━━━━━━━━━━━━━━━━━━━━━\u001b[0m \u001b[32m954.8/954.8 kB\u001b[0m \u001b[31m52.9 MB/s\u001b[0m eta \u001b[36m0:00:00\u001b[0m\n",
            "\u001b[?25hDownloading https://download.pytorch.org/whl/nightly/nvidia_cudnn_cu12-9.10.2.21-py3-none-manylinux_2_27_x86_64.whl (706.8 MB)\n",
            "\u001b[2K   \u001b[90m━━━━━━━━━━━━━━━━━━━━━━━━━━━━━━━━━━━━━━━\u001b[0m \u001b[32m706.8/706.8 MB\u001b[0m \u001b[31m853.2 kB/s\u001b[0m eta \u001b[36m0:00:00\u001b[0m\n",
            "\u001b[?25hDownloading https://download.pytorch.org/whl/nightly/cu128/nvidia_cufft_cu12-11.3.3.83-py3-none-manylinux2014_x86_64.manylinux_2_17_x86_64.whl (193.1 MB)\n",
            "\u001b[2K   \u001b[90m━━━━━━━━━━━━━━━━━━━━━━━━━━━━━━━━━━━━━━━━\u001b[0m \u001b[32m193.1/193.1 MB\u001b[0m \u001b[31m6.1 MB/s\u001b[0m eta \u001b[36m0:00:00\u001b[0m\n",
            "\u001b[?25hDownloading https://download.pytorch.org/whl/nightly/cu128/nvidia_cufile_cu12-1.13.1.3-py3-none-manylinux2014_x86_64.manylinux_2_17_x86_64.whl (1.2 MB)\n",
            "\u001b[2K   \u001b[90m━━━━━━━━━━━━━━━━━━━━━━━━━━━━━━━━━━━━━━━━\u001b[0m \u001b[32m1.2/1.2 MB\u001b[0m \u001b[31m71.0 MB/s\u001b[0m eta \u001b[36m0:00:00\u001b[0m\n",
            "\u001b[?25hDownloading https://download.pytorch.org/whl/nightly/cu128/nvidia_curand_cu12-10.3.9.90-py3-none-manylinux_2_27_x86_64.whl (63.6 MB)\n",
            "\u001b[2K   \u001b[90m━━━━━━━━━━━━━━━━━━━━━━━━━━━━━━━━━━━━━━━━\u001b[0m \u001b[32m63.6/63.6 MB\u001b[0m \u001b[31m13.3 MB/s\u001b[0m eta \u001b[36m0:00:00\u001b[0m\n",
            "\u001b[?25hDownloading https://download.pytorch.org/whl/nightly/cu128/nvidia_cusolver_cu12-11.7.3.90-py3-none-manylinux_2_27_x86_64.whl (267.5 MB)\n",
            "\u001b[2K   \u001b[90m━━━━━━━━━━━━━━━━━━━━━━━━━━━━━━━━━━━━━━━━\u001b[0m \u001b[32m267.5/267.5 MB\u001b[0m \u001b[31m5.2 MB/s\u001b[0m eta \u001b[36m0:00:00\u001b[0m\n",
            "\u001b[?25hDownloading https://download.pytorch.org/whl/nightly/cu128/nvidia_cusparse_cu12-12.5.8.93-py3-none-manylinux2014_x86_64.manylinux_2_17_x86_64.whl (288.2 MB)\n",
            "\u001b[2K   \u001b[90m━━━━━━━━━━━━━━━━━━━━━━━━━━━━━━━━━━━━━━━━\u001b[0m \u001b[32m288.2/288.2 MB\u001b[0m \u001b[31m4.6 MB/s\u001b[0m eta \u001b[36m0:00:00\u001b[0m\n",
            "\u001b[?25hDownloading https://download.pytorch.org/whl/nightly/cu128/nvidia_cusparselt_cu12-0.7.1-py3-none-manylinux2014_x86_64.whl (287.2 MB)\n",
            "\u001b[2K   \u001b[90m━━━━━━━━━━━━━━━━━━━━━━━━━━━━━━━━━━━━━━━━\u001b[0m \u001b[32m287.2/287.2 MB\u001b[0m \u001b[31m1.6 MB/s\u001b[0m eta \u001b[36m0:00:00\u001b[0m\n",
            "\u001b[?25hDownloading https://download.pytorch.org/whl/nightly/cu128/nvidia_nccl_cu12-2.27.5-py3-none-manylinux2014_x86_64.manylinux_2_17_x86_64.whl (322.3 MB)\n",
            "\u001b[2K   \u001b[90m━━━━━━━━━━━━━━━━━━━━━━━━━━━━━━━━━━━━━━━━\u001b[0m \u001b[32m322.3/322.3 MB\u001b[0m \u001b[31m1.3 MB/s\u001b[0m eta \u001b[36m0:00:00\u001b[0m\n",
            "\u001b[?25hDownloading https://download.pytorch.org/whl/nightly/cu128/nvidia_nvjitlink_cu12-12.8.93-py3-none-manylinux2010_x86_64.manylinux_2_12_x86_64.whl (39.3 MB)\n",
            "\u001b[2K   \u001b[90m━━━━━━━━━━━━━━━━━━━━━━━━━━━━━━━━━━━━━━━━\u001b[0m \u001b[32m39.3/39.3 MB\u001b[0m \u001b[31m18.2 MB/s\u001b[0m eta \u001b[36m0:00:00\u001b[0m\n",
            "\u001b[?25hDownloading https://download.pytorch.org/whl/nightly/nvidia_nvshmem_cu12-3.3.20-py3-none-manylinux2014_x86_64.manylinux_2_17_x86_64.whl (124.7 MB)\n",
            "\u001b[2K   \u001b[90m━━━━━━━━━━━━━━━━━━━━━━━━━━━━━━━━━━━━━━━━\u001b[0m \u001b[32m124.7/124.7 MB\u001b[0m \u001b[31m7.5 MB/s\u001b[0m eta \u001b[36m0:00:00\u001b[0m\n",
            "\u001b[?25hDownloading https://download.pytorch.org/whl/nightly/cu128/nvidia_nvtx_cu12-12.8.90-py3-none-manylinux2014_x86_64.manylinux_2_17_x86_64.whl (89 kB)\n",
            "\u001b[2K   \u001b[90m━━━━━━━━━━━━━━━━━━━━━━━━━━━━━━━━━━━━━━━━\u001b[0m \u001b[32m90.0/90.0 kB\u001b[0m \u001b[31m9.5 MB/s\u001b[0m eta \u001b[36m0:00:00\u001b[0m\n",
            "\u001b[?25hDownloading https://download.pytorch.org/whl/nightly/pytorch_triton-3.4.0%2Bgitf7888497-cp312-cp312-manylinux_2_27_x86_64.manylinux_2_28_x86_64.whl (154.7 MB)\n",
            "\u001b[2K   \u001b[90m━━━━━━━━━━━━━━━━━━━━━━━━━━━━━━━━━━━━━━━━\u001b[0m \u001b[32m154.7/154.7 MB\u001b[0m \u001b[31m6.5 MB/s\u001b[0m eta \u001b[36m0:00:00\u001b[0m\n",
            "\u001b[?25hDownloading https://download.pytorch.org/whl/nightly/cu128/torchaudio-2.8.0.dev20250824%2Bcu128-cp312-cp312-manylinux_2_28_x86_64.whl (2.5 MB)\n",
            "\u001b[2K   \u001b[90m━━━━━━━━━━━━━━━━━━━━━━━━━━━━━━━━━━━━━━━━\u001b[0m \u001b[32m2.5/2.5 MB\u001b[0m \u001b[31m92.3 MB/s\u001b[0m eta \u001b[36m0:00:00\u001b[0m\n",
            "\u001b[?25hInstalling collected packages: nvidia-cusparselt-cu12, pytorch-triton, nvidia-nvtx-cu12, nvidia-nvshmem-cu12, nvidia-nvjitlink-cu12, nvidia-nccl-cu12, nvidia-curand-cu12, nvidia-cufile-cu12, nvidia-cuda-runtime-cu12, nvidia-cuda-nvrtc-cu12, nvidia-cuda-cupti-cu12, nvidia-cublas-cu12, nvidia-cusparse-cu12, nvidia-cufft-cu12, nvidia-cudnn-cu12, nvidia-cusolver-cu12, torch, torchvision, torchaudio\n",
            "  Attempting uninstall: nvidia-cusparselt-cu12\n",
            "    Found existing installation: nvidia-cusparselt-cu12 0.6.3\n",
            "    Uninstalling nvidia-cusparselt-cu12-0.6.3:\n",
            "      Successfully uninstalled nvidia-cusparselt-cu12-0.6.3\n",
            "  Attempting uninstall: nvidia-nvtx-cu12\n",
            "    Found existing installation: nvidia-nvtx-cu12 12.8.55\n",
            "    Uninstalling nvidia-nvtx-cu12-12.8.55:\n",
            "      Successfully uninstalled nvidia-nvtx-cu12-12.8.55\n",
            "  Attempting uninstall: nvidia-nvjitlink-cu12\n",
            "    Found existing installation: nvidia-nvjitlink-cu12 12.8.61\n",
            "    Uninstalling nvidia-nvjitlink-cu12-12.8.61:\n",
            "      Successfully uninstalled nvidia-nvjitlink-cu12-12.8.61\n",
            "  Attempting uninstall: nvidia-nccl-cu12\n",
            "    Found existing installation: nvidia-nccl-cu12 2.26.2\n",
            "    Uninstalling nvidia-nccl-cu12-2.26.2:\n",
            "      Successfully uninstalled nvidia-nccl-cu12-2.26.2\n",
            "  Attempting uninstall: nvidia-curand-cu12\n",
            "    Found existing installation: nvidia-curand-cu12 10.3.9.55\n",
            "    Uninstalling nvidia-curand-cu12-10.3.9.55:\n",
            "      Successfully uninstalled nvidia-curand-cu12-10.3.9.55\n",
            "  Attempting uninstall: nvidia-cufile-cu12\n",
            "    Found existing installation: nvidia-cufile-cu12 1.13.0.11\n",
            "    Uninstalling nvidia-cufile-cu12-1.13.0.11:\n",
            "      Successfully uninstalled nvidia-cufile-cu12-1.13.0.11\n",
            "  Attempting uninstall: nvidia-cuda-runtime-cu12\n",
            "    Found existing installation: nvidia-cuda-runtime-cu12 12.8.57\n",
            "    Uninstalling nvidia-cuda-runtime-cu12-12.8.57:\n",
            "      Successfully uninstalled nvidia-cuda-runtime-cu12-12.8.57\n",
            "  Attempting uninstall: nvidia-cuda-nvrtc-cu12\n",
            "    Found existing installation: nvidia-cuda-nvrtc-cu12 12.8.61\n",
            "    Uninstalling nvidia-cuda-nvrtc-cu12-12.8.61:\n",
            "      Successfully uninstalled nvidia-cuda-nvrtc-cu12-12.8.61\n",
            "  Attempting uninstall: nvidia-cuda-cupti-cu12\n",
            "    Found existing installation: nvidia-cuda-cupti-cu12 12.8.57\n",
            "    Uninstalling nvidia-cuda-cupti-cu12-12.8.57:\n",
            "      Successfully uninstalled nvidia-cuda-cupti-cu12-12.8.57\n",
            "  Attempting uninstall: nvidia-cublas-cu12\n",
            "    Found existing installation: nvidia-cublas-cu12 12.8.3.14\n",
            "    Uninstalling nvidia-cublas-cu12-12.8.3.14:\n",
            "      Successfully uninstalled nvidia-cublas-cu12-12.8.3.14\n",
            "  Attempting uninstall: nvidia-cusparse-cu12\n",
            "    Found existing installation: nvidia-cusparse-cu12 12.5.7.53\n",
            "    Uninstalling nvidia-cusparse-cu12-12.5.7.53:\n",
            "      Successfully uninstalled nvidia-cusparse-cu12-12.5.7.53\n",
            "  Attempting uninstall: nvidia-cufft-cu12\n",
            "    Found existing installation: nvidia-cufft-cu12 11.3.3.41\n",
            "    Uninstalling nvidia-cufft-cu12-11.3.3.41:\n",
            "      Successfully uninstalled nvidia-cufft-cu12-11.3.3.41\n",
            "  Attempting uninstall: nvidia-cudnn-cu12\n",
            "    Found existing installation: nvidia-cudnn-cu12 9.7.1.26\n",
            "    Uninstalling nvidia-cudnn-cu12-9.7.1.26:\n",
            "      Successfully uninstalled nvidia-cudnn-cu12-9.7.1.26\n",
            "  Attempting uninstall: nvidia-cusolver-cu12\n",
            "    Found existing installation: nvidia-cusolver-cu12 11.7.2.55\n",
            "    Uninstalling nvidia-cusolver-cu12-11.7.2.55:\n",
            "      Successfully uninstalled nvidia-cusolver-cu12-11.7.2.55\n",
            "  Attempting uninstall: torch\n",
            "    Found existing installation: torch 2.7.0+cu128\n",
            "    Uninstalling torch-2.7.0+cu128:\n",
            "      Successfully uninstalled torch-2.7.0+cu128\n",
            "  Attempting uninstall: torchvision\n",
            "    Found existing installation: torchvision 0.23.0+cu126\n",
            "    Uninstalling torchvision-0.23.0+cu126:\n",
            "      Successfully uninstalled torchvision-0.23.0+cu126\n",
            "  Attempting uninstall: torchaudio\n",
            "    Found existing installation: torchaudio 2.8.0+cu126\n",
            "    Uninstalling torchaudio-2.8.0+cu126:\n",
            "      Successfully uninstalled torchaudio-2.8.0+cu126\n",
            "\u001b[31mERROR: pip's dependency resolver does not currently take into account all the packages that are installed. This behaviour is the source of the following dependency conflicts.\n",
            "fastai 2.8.3 requires torch<2.9,>=1.10, but you have torch 2.9.0.dev20250824+cu128 which is incompatible.\n",
            "cudf-cu12 25.6.0 requires pandas<2.2.4dev0,>=2.0, but you have pandas 2.3.2 which is incompatible.\n",
            "cudf-cu12 25.6.0 requires pyarrow<20.0.0a0,>=14.0.0; platform_machine == \"x86_64\", but you have pyarrow 21.0.0 which is incompatible.\n",
            "dask-cudf-cu12 25.6.0 requires pandas<2.2.4dev0,>=2.0, but you have pandas 2.3.2 which is incompatible.\u001b[0m\u001b[31m\n",
            "\u001b[0mSuccessfully installed nvidia-cublas-cu12-12.8.4.1 nvidia-cuda-cupti-cu12-12.8.90 nvidia-cuda-nvrtc-cu12-12.8.93 nvidia-cuda-runtime-cu12-12.8.90 nvidia-cudnn-cu12-9.10.2.21 nvidia-cufft-cu12-11.3.3.83 nvidia-cufile-cu12-1.13.1.3 nvidia-curand-cu12-10.3.9.90 nvidia-cusolver-cu12-11.7.3.90 nvidia-cusparse-cu12-12.5.8.93 nvidia-cusparselt-cu12-0.7.1 nvidia-nccl-cu12-2.27.5 nvidia-nvjitlink-cu12-12.8.93 nvidia-nvshmem-cu12-3.3.20 nvidia-nvtx-cu12-12.8.90 pytorch-triton-3.4.0+gitf7888497 torch-2.9.0.dev20250824+cu128 torchaudio-2.8.0.dev20250824+cu128 torchvision-0.24.0.dev20250824+cu128\n"
          ]
        }
      ]
    },
    {
      "cell_type": "code",
      "source": [
        "!pip install --upgrade --force-reinstall pyproject.toml uv.lock\n",
        "!pip install -e \".[gpu]\""
      ],
      "metadata": {
        "id": "X5P2z2hTgclb"
      },
      "execution_count": null,
      "outputs": []
    },
    {
      "cell_type": "code",
      "source": [
        "!pip install -e \".[cpu]\""
      ],
      "metadata": {
        "id": "WId43vp7gsMr"
      },
      "execution_count": null,
      "outputs": []
    },
    {
      "cell_type": "code",
      "source": [
        "!pip install --pre --upgrade torchvision --index-url https://download.pytorch.org/whl/nightly/cu128\n"
      ],
      "metadata": {
        "id": "r9-Osyf4gvGc"
      },
      "execution_count": null,
      "outputs": []
    },
    {
      "cell_type": "code",
      "source": [
        "!pip install -e \".[gpu]\""
      ],
      "metadata": {
        "colab": {
          "base_uri": "https://localhost:8080/"
        },
        "id": "C_RbcXGzhZGc",
        "outputId": "bb9dfd82-f9bc-4938-a0dd-ec5bdc350157"
      },
      "execution_count": 15,
      "outputs": [
        {
          "output_type": "stream",
          "name": "stdout",
          "text": [
            "Obtaining file:///content/LexaLCM_Pre2\n",
            "  Installing build dependencies ... \u001b[?25l\u001b[?25hdone\n",
            "  Checking if build backend supports build_editable ... \u001b[?25l\u001b[?25hdone\n",
            "  Getting requirements to build editable ... \u001b[?25l\u001b[?25hdone\n",
            "  Preparing editable metadata (pyproject.toml) ... \u001b[?25l\u001b[?25hdone\n",
            "Requirement already satisfied: accelerate>=1.7.0 in /usr/local/lib/python3.12/dist-packages (from LexaLCM==0.0.0rc2) (1.10.0)\n",
            "Requirement already satisfied: pytest>=8.3.5 in /usr/local/lib/python3.12/dist-packages (from LexaLCM==0.0.0rc2) (8.4.1)\n",
            "Requirement already satisfied: numpy>=2.2.6 in /usr/local/lib/python3.12/dist-packages (from LexaLCM==0.0.0rc2) (2.3.2)\n",
            "Requirement already satisfied: pandas>=2.2.3 in /usr/local/lib/python3.12/dist-packages (from LexaLCM==0.0.0rc2) (2.3.2)\n",
            "Requirement already satisfied: sentencepiece>=0.2.0 in /usr/local/lib/python3.12/dist-packages (from LexaLCM==0.0.0rc2) (0.2.1)\n",
            "Requirement already satisfied: wandb>=0.19.11 in /usr/local/lib/python3.12/dist-packages (from LexaLCM==0.0.0rc2) (0.21.1)\n",
            "Requirement already satisfied: torchinfo>=1.8.0 in /usr/local/lib/python3.12/dist-packages (from LexaLCM==0.0.0rc2) (1.8.0)\n",
            "Requirement already satisfied: pyarrow>=20.0.0 in /usr/local/lib/python3.12/dist-packages (from LexaLCM==0.0.0rc2) (21.0.0)\n",
            "Requirement already satisfied: evaluate>=0.4.3 in /usr/local/lib/python3.12/dist-packages (from LexaLCM==0.0.0rc2) (0.4.5)\n",
            "Requirement already satisfied: transformers>=4.51.3 in /usr/local/lib/python3.12/dist-packages (from LexaLCM==0.0.0rc2) (4.51.3)\n",
            "INFO: pip is looking at multiple versions of lexalcm[gpu] to determine which version is compatible with other requirements. This could take a while.\n",
            "\u001b[31mERROR: Could not find a version that satisfies the requirement torch==2.7.0+cu128; extra == \"gpu\" (from lexalcm[gpu]) (from versions: 2.2.0, 2.2.1, 2.2.2, 2.3.0, 2.3.1, 2.4.0, 2.4.1, 2.5.0, 2.5.1, 2.6.0, 2.7.0, 2.7.1, 2.8.0)\u001b[0m\u001b[31m\n",
            "\u001b[0m\u001b[31mERROR: No matching distribution found for torch==2.7.0+cu128; extra == \"gpu\"\u001b[0m\u001b[31m\n",
            "\u001b[0m"
          ]
        }
      ]
    },
    {
      "cell_type": "code",
      "source": [
        "!uv run Tests/TestInference.py"
      ],
      "metadata": {
        "colab": {
          "base_uri": "https://localhost:8080/"
        },
        "id": "WGRYJPMRhZW0",
        "outputId": "ee64a991-01ba-4d59-a0bb-1ac3c17e50af"
      },
      "execution_count": 1,
      "outputs": [
        {
          "output_type": "stream",
          "name": "stdout",
          "text": [
            "\u001b[1m\u001b[31merror\u001b[39m\u001b[0m: Failed to spawn: `Tests/TestInference.py`\n",
            "  \u001b[1m\u001b[31mCaused by\u001b[39m\u001b[0m: No such file or directory (os error 2)\n"
          ]
        }
      ]
    },
    {
      "cell_type": "code",
      "source": [],
      "metadata": {
        "id": "gx5bPet0hebk"
      },
      "execution_count": null,
      "outputs": []
    }
  ]
}